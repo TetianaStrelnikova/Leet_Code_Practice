{
 "cells": [
  {
   "cell_type": "markdown",
   "id": "f9f016be",
   "metadata": {},
   "source": [
    "Write a function to find the longest common prefix string amongst an array of strings.\n",
    "\n",
    "If there is no common prefix, return an empty string \"\".\n",
    "\n",
    " \n",
    "\n",
    "Example 1:\n",
    "\n",
    "Input: strs = [\"flower\",\"flow\",\"flight\"]\n",
    "Output: \"fl\"\n",
    "Example 2:\n",
    "\n",
    "Input: strs = [\"dog\",\"racecar\",\"car\"]\n",
    "Output: \"\"\n",
    "Explanation: There is no common prefix among the input strings.\n",
    " \n",
    "\n",
    "Constraints:\n",
    "\n",
    "1 <= strs.length <= 200\n",
    "0 <= strs[i].length <= 200\n",
    "strs[i] consists of only lowercase English letters if it is non-empty."
   ]
  },
  {
   "cell_type": "code",
   "execution_count": null,
   "id": "95edf7c5",
   "metadata": {},
   "outputs": [],
   "source": [
    "def longestCommonPrefix(self, strs):\n",
    "    \"\"\"\n",
    "    :type strs: List[str]\n",
    "    :rtype: str\n",
    "    \"\"\"\n",
    "    if len(strs) == 0:\n",
    "            return ''\n",
    "    if len(strs) == 1:\n",
    "            return strs[0]\n",
    "    prefix = ''\n",
    "    min_length = min(len(word) for word in strs)\n",
    "    for i in range(min_length):\n",
    "        if all(word[i] == strs[0][i] for word in strs):\n",
    "            prefix += strs[0][i]\n",
    "        else:\n",
    "            break\n",
    "    return prefix"
   ]
  },
  {
   "cell_type": "code",
   "execution_count": null,
   "id": "ca18d5cc",
   "metadata": {},
   "outputs": [],
   "source": [
    "def longestCommonPrefix(self, strs):\n",
    "    \"\"\"\n",
    "    :type strs: List[str]\n",
    "    :rtype: str\n",
    "    \"\"\"\n",
    "    if len(strs) == 0:\n",
    "            return ''\n",
    "    if len(strs) == 1:\n",
    "            return strs[0]\n",
    "    prefix = ''\n",
    "    for chars in zip(*strs):\n",
    "        if len(set(chars)) > 1:\n",
    "            break\n",
    "        else:\n",
    "            prefix += chars[0]\n",
    "    return prefix"
   ]
  },
  {
   "cell_type": "markdown",
   "id": "671f1e21",
   "metadata": {},
   "source": [
    "Beats\n",
    "20.07%"
   ]
  },
  {
   "cell_type": "code",
   "execution_count": null,
   "id": "6ea03102",
   "metadata": {},
   "outputs": [],
   "source": [
    "def longestCommonPrefix(self, strs):\n",
    "    \"\"\"\n",
    "    :type strs: List[str]\n",
    "    :rtype: str\n",
    "    \"\"\"\n",
    "    if len(strs) == 0:\n",
    "            return ''\n",
    "    if len(strs) == 1:\n",
    "            return strs[0]\n",
    "    prefix = strs[0]\n",
    "    for word in strs[1:]:\n",
    "        i = 0\n",
    "        while i < len(prefix) and i< len(word) and prefix[i] == word[i]:\n",
    "            i += 1\n",
    "        prefix = prefix[:i]\n",
    "    return prefix"
   ]
  }
 ],
 "metadata": {
  "language_info": {
   "name": "python"
  }
 },
 "nbformat": 4,
 "nbformat_minor": 5
}

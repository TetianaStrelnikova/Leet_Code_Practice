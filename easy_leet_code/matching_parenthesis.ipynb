{
 "cells": [
  {
   "cell_type": "markdown",
   "id": "47eae586",
   "metadata": {},
   "source": [
    "Given a string s containing just the characters '(', ')', '{', '}', '[' and ']', determine if the input string is valid.\n",
    "\n",
    "An input string is valid if:\n",
    "\n",
    "Open brackets must be closed by the same type of brackets.\n",
    "Open brackets must be closed in the correct order.\n",
    "Every close bracket has a corresponding open bracket of the same type.\n",
    " \n",
    "\n",
    "Example 1:\n",
    "\n",
    "Input: s = \"()\"\n",
    "\n",
    "Output: true"
   ]
  },
  {
   "cell_type": "code",
   "execution_count": null,
   "id": "d5134f25",
   "metadata": {},
   "outputs": [],
   "source": [
    "# my option\n",
    "class Solution(object):\n",
    "    def isValid(self, s):\n",
    "        \"\"\"\n",
    "        :type s: str\n",
    "        :rtype: bool\n",
    "        \"\"\"\n",
    "        pairs = {'(':')','{':'}','[':']'}\n",
    "        if s[0] in pairs.values():\n",
    "            return False\n",
    "        stack = []\n",
    "        for i, bracket in enumerate(s):\n",
    "            if bracket in pairs.keys():\n",
    "                stack.append(bracket)\n",
    "            else:\n",
    "                if not stack:\n",
    "                    return False\n",
    "                else:\n",
    "                    if bracket != pairs[stack[-1]]:\n",
    "                            return False\n",
    "                    else:\n",
    "                        stack.pop()\n",
    "        if not stack:\n",
    "            return True\n",
    "        else: \n",
    "            return False "
   ]
  },
  {
   "cell_type": "code",
   "execution_count": null,
   "id": "5cf33028",
   "metadata": {},
   "outputs": [],
   "source": [
    "#The maost efficient \n",
    "#TODO Which is better to answer at the interview???\n",
    "\n",
    "class Solution(object):\n",
    "    def isValid(self, s):\n",
    "        stack = []\n",
    "        for char in s:\n",
    "            if char in ['(','{','[']:\n",
    "                stack.append(char)\n",
    "            else:\n",
    "                if char == ')':\n",
    "                    if len(stack) == 0 or stack[-1] != '(':\n",
    "                        return False\n",
    "                    else:\n",
    "                        stack.pop()\n",
    "                if char == ']':\n",
    "                    if len(stack) == 0 or stack[-1] != '[':\n",
    "                        return False\n",
    "                    else:\n",
    "                        stack.pop()\n",
    "                if char == '}':\n",
    "                    if len(stack) == 0 or stack[-1] != '{':\n",
    "                        return False\n",
    "                    else:\n",
    "                        stack.pop()\n",
    "        if stack:\n",
    "            return False\n",
    "        return True\n",
    "        \"\"\"\n",
    "        :type s: str\n",
    "        :rtype: bool\n",
    "        \"\"\""
   ]
  }
 ],
 "metadata": {
  "language_info": {
   "name": "python"
  }
 },
 "nbformat": 4,
 "nbformat_minor": 5
}

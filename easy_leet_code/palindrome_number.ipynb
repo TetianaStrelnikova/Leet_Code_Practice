{
 "cells": [
  {
   "cell_type": "markdown",
   "id": "c24d8aa6",
   "metadata": {},
   "source": [
    "### Given an integer x, return true if x is a palindrome, and false otherwise.\n",
    "\n",
    " \n",
    "\n",
    "Example 1:\n",
    "\n",
    "Input: x = 121\n",
    "Output: true\n",
    "Explanation: 121 reads as 121 from left to right and from right to left.\n",
    "Example 2:\n",
    "\n",
    "Input: x = -121\n",
    "Output: false\n",
    "Explanation: From left to right, it reads -121. From right to left, it becomes 121-. Therefore it is not a palindrome.\n",
    "Example 3:\n",
    "\n",
    "Input: x = 10\n",
    "Output: false\n",
    "Explanation: Reads 01 from right to left. Therefore it is not a palindrome.\n",
    " \n",
    "\n",
    "Constraints:\n",
    "\n",
    "-2^31 <= x <= 2^31\n",
    " \n",
    "\n",
    "Follow up: Could you solve it \n",
    "### without converting the integer to a string?"
   ]
  },
  {
   "cell_type": "code",
   "execution_count": null,
   "id": "14616339",
   "metadata": {},
   "outputs": [],
   "source": [
    "def isPalindrome( number):\n",
    "        \n",
    "        if number < 0 or (number % 10 == 0 and number != 0):\n",
    "            return False\n",
    "        \n",
    "        if number < 10:\n",
    "            return True\n",
    "\n",
    "        reversed_ = 0\n",
    "        while number > reversed_:\n",
    "            last_digt = number % 10\n",
    "            reversed_ = reversed_ * 10 + last_digt\n",
    "            number = number // 10\n",
    "        \n",
    "        return number == reversed_ or number == reversed_ // 10"
   ]
  },
  {
   "cell_type": "code",
   "execution_count": null,
   "id": "197fa117",
   "metadata": {},
   "outputs": [],
   "source": [
    "def isPalindrome( number):\n",
    "        \n",
    "        if number < 0 or (number % 10 == 0 and number != 0):\n",
    "            return False\n",
    "        \n",
    "        if number < 10:\n",
    "            return True\n",
    "\n",
    "        reversed_ = 0\n",
    "        while number > reversed_:\n",
    "            reversed_ = reversed_ * 10 + number % 10\n",
    "            number = number // 10\n",
    "        \n",
    "        return number == reversed_ or number == reversed_ // 10"
   ]
  }
 ],
 "metadata": {
  "language_info": {
   "name": "python"
  }
 },
 "nbformat": 4,
 "nbformat_minor": 5
}

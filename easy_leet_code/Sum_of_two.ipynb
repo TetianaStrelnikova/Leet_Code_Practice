{
 "cells": [
  {
   "cell_type": "markdown",
   "id": "6f9bd7d7",
   "metadata": {},
   "source": [
    "# 🧠 Two Sum Problem\n",
    "\n",
    "## Task\n",
    "\n",
    "Given an array of integers `nums` and an integer `target`, return **indices of the two numbers** such that they add up to `target`.\n",
    "\n",
    "You may assume that **each input would have exactly one solution**, and **you may not use the same element twice**.\n",
    "\n",
    "You can return the answer in **any order**.\n",
    "\n",
    "---\n",
    "\n",
    "### ✏️ Example 1\n",
    "**Input:**  \n",
    "`nums = [2, 7, 11, 15]`, `target = 9`  \n",
    "**Output:**  \n",
    "`[0, 1]`  \n",
    "**Explanation:** Because `nums[0] + nums[1] == 9`, we return `[0, 1]`.\n",
    "\n",
    "---\n",
    "\n",
    "### ✏️ Example 2\n",
    "**Input:**  \n",
    "`nums = [3, 2, 4]`, `target = 6`  \n",
    "**Output:**  \n",
    "`[1, 2]`\n",
    "\n",
    "---\n",
    "\n",
    "### ✏️ Example 3\n",
    "**Input:**  \n",
    "`nums = [3, 3]`, `target = 6`  \n",
    "**Output:**  \n",
    "`[0, 1]`\n",
    "\n",
    "---\n",
    "\n",
    "### 🔒 Constraints\n",
    "\n",
    "- 2 ≤ `nums.length` ≤ 10⁴  \n",
    "- −10⁹ ≤ `nums[i]`, `target` ≤ 10⁹  \n",
    "- **Only one valid answer exists**\n",
    "\n",
    "---\n",
    "\n",
    "### 🚀 Follow-Up\n",
    "\n",
    "Can you come up with an algorithm that runs in **less than O(n²)** time complexity?\n"
   ]
  },
  {
   "cell_type": "code",
   "execution_count": 1,
   "id": "27d8c3ff",
   "metadata": {},
   "outputs": [],
   "source": [
    "def twoSum(self, nums, target):\n",
    "        \"\"\"\n",
    "        :type nums: List[int]\n",
    "        :type target: int\n",
    "        :rtype: List[int]\n",
    "        \"\"\"\n",
    "        def check_sum(array, start, target):\n",
    "            value = array[start]\n",
    "            for i in range(start + 1, len(array)):\n",
    "                #next(iter(range(start + 1, len(array))))\n",
    "                if array[i] + value == target:\n",
    "                    return [start, i]\n",
    "                # return start, i if array[i] + value == target\n",
    "\n",
    "        for i in range(len(nums)):\n",
    "            result = check_sum(nums, i, target)\n",
    "            if result:\n",
    "                return result"
   ]
  },
  {
   "cell_type": "code",
   "execution_count": null,
   "id": "34bfdc2d",
   "metadata": {},
   "outputs": [],
   "source": [
    "def check_sum(array, start, target):\n",
    "    i_iter = iter(range(start + 1, len(array)))\n",
    "    value = array[start]\n",
    "    while True:\n",
    "        try:\n",
    "            i = next(i_iter)\n",
    "            if array[i] + value == target:\n",
    "                return start, i\n",
    "        except StopIteration:\n",
    "            break"
   ]
  },
  {
   "cell_type": "code",
   "execution_count": null,
   "id": "4c7db99e",
   "metadata": {},
   "outputs": [],
   "source": [
    "def twoSum(self, nums, target):\n",
    "\n",
    "        for i in range(len(nums)):\n",
    "            result = check_sum(nums, i, target)\n",
    "            if result:\n",
    "                return result"
   ]
  },
  {
   "cell_type": "code",
   "execution_count": null,
   "id": "10180d4c",
   "metadata": {},
   "outputs": [],
   "source": [
    "def twoSum(self, nums, target):\n",
    "    for i in range(len(nums)):\n",
    "        value = nums[i]\n",
    "        for j in range(i + 1, len(nums)):\n",
    "            if value + nums[j] == target:\n",
    "                return [i, j]"
   ]
  },
  {
   "cell_type": "markdown",
   "id": "7ee24553",
   "metadata": {},
   "source": [
    "num+complement=target"
   ]
  },
  {
   "cell_type": "code",
   "execution_count": null,
   "id": "625d9caa",
   "metadata": {},
   "outputs": [],
   "source": [
    "def sum_of_two(nums, target):\n",
    "    seen = {}\n",
    "    for i, value in enumerate(nums):\n",
    "        complement = target - value\n",
    "        if complement in seen:\n",
    "            return seen[complement], i\n",
    "        seen[value] = i\n",
    "        "
   ]
  }
 ],
 "metadata": {
  "kernelspec": {
   "display_name": "base",
   "language": "python",
   "name": "python3"
  },
  "language_info": {
   "codemirror_mode": {
    "name": "ipython",
    "version": 3
   },
   "file_extension": ".py",
   "mimetype": "text/x-python",
   "name": "python",
   "nbconvert_exporter": "python",
   "pygments_lexer": "ipython3",
   "version": "3.12.7"
  }
 },
 "nbformat": 4,
 "nbformat_minor": 5
}

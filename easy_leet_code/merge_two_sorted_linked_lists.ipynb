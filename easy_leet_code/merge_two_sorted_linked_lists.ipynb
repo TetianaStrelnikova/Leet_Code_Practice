{
 "cells": [
  {
   "cell_type": "code",
   "execution_count": null,
   "id": "750789e8",
   "metadata": {},
   "outputs": [],
   "source": [
    "class Solution(object):\n",
    "    def mergeTwoLists(self, list1, list2):\n",
    "        \"\"\"\n",
    "        :type list1: Optional[ListNode]\n",
    "        :type list2: Optional[ListNode]\n",
    "        :rtype: Optional[ListNode]\n",
    "        \"\"\"\n",
    "        if not list1:\n",
    "            return list2\n",
    "        if not list2:\n",
    "            return list1\n",
    "        if list1.val <= list2.val:\n",
    "            list1.next = self.mergeTwoLists(list1.next,list2)\n",
    "            return list1\n",
    "        else:\n",
    "            list2.next = self.mergeTwoLists(list1,list2.next)\n",
    "            return list2\n",
    "            \n",
    "            \n",
    "       "
   ]
  },
  {
   "cell_type": "code",
   "execution_count": null,
   "id": "b05c42c8",
   "metadata": {},
   "outputs": [],
   "source": [
    "\n",
    "# TODO try iterative approach which is faster\n",
    "\n",
    "def merge_sorted_lists(list1, list2):\n",
    "    if not list1:\n",
    "        return list2\n",
    "    if not list2:\n",
    "        return list1\n",
    "    dummy = ListNode()\n",
    "    current = dummy\n",
    "    while list1 and list2:\n",
    "        if list1.value <= list2.value:\n",
    "            current.next = list1\n",
    "            list1 = list1.next\n",
    "        else:\n",
    "            current.next = list2\n",
    "            list2 = list2.next\n",
    "            \n",
    "        current = current.next\n",
    "    current.next = list1 if list1 else list2    \n",
    "    return dummy.next\n"
   ]
  }
 ],
 "metadata": {
  "language_info": {
   "name": "python"
  }
 },
 "nbformat": 4,
 "nbformat_minor": 5
}

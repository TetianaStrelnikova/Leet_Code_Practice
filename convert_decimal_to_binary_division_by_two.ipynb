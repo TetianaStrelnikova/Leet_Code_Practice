{
 "cells": [
  {
   "cell_type": "markdown",
   "id": "0b476804",
   "metadata": {},
   "source": [
    "### Exercise: Convert Decimal Integer to Binary\n",
    "Challenge yourself to solve the problem in this lesson!\n",
    "\n",
    "In this coding exercise, you are required to use the stack data structure to convert integer values to their binary equivalent.\n",
    "\n",
    "### Division by 2 Method"
   ]
  },
  {
   "cell_type": "code",
   "execution_count": 2,
   "id": "0f16fe58",
   "metadata": {},
   "outputs": [],
   "source": [
    "def decimal_to_binary(decimal):\n",
    "    \"\"\"\n",
    "    Convert a decimal integer to its binary equivalent using the division by 2 method.\n",
    "    \n",
    "    :param decimal: The decimal integer to convert.\n",
    "    :return: A string representing the binary equivalent of the decimal integer.\n",
    "    \"\"\"\n",
    "    if decimal == 0:\n",
    "        # If the input is 0, return '0' as the binary representation\n",
    "        return '0'\n",
    "    stack = []\n",
    "\n",
    "    while decimal > 0:\n",
    "        remainder = decimal % 2\n",
    "        stack.append(str(remainder))\n",
    "        decimal //= 2\n",
    "    #return ''.join(stack[::-1])\n",
    "    \n",
    "    return ''.join(reversed(stack)) \n"
   ]
  },
  {
   "cell_type": "code",
   "execution_count": 3,
   "id": "f52c1dc1",
   "metadata": {},
   "outputs": [
    {
     "name": "stdout",
     "output_type": "stream",
     "text": [
      "All tests passed.\n"
     ]
    }
   ],
   "source": [
    "# Basic test cases\n",
    "assert decimal_to_binary(0) == '0'\n",
    "assert decimal_to_binary(1) == '1'\n",
    "assert decimal_to_binary(2) == '10'\n",
    "assert decimal_to_binary(5) == '101'\n",
    "assert decimal_to_binary(10) == '1010'\n",
    "assert decimal_to_binary(255) == '11111111'\n",
    "assert decimal_to_binary(1024) == '10000000000'\n",
    "\n",
    "# Edge cases\n",
    "assert decimal_to_binary(9999) == bin(9999)[2:]\n",
    "assert decimal_to_binary(1_000_000) == bin(1_000_000)[2:]\n",
    "\n",
    "print(\"All tests passed.\")\n"
   ]
  },
  {
   "cell_type": "markdown",
   "id": "b0702a7f",
   "metadata": {},
   "source": [
    "### stack[::-1]\n",
    "\n",
    "🔁 Makes a new list (a full reversed copy of stack)\n",
    "\n",
    "✅ Easy to read\n",
    "\n",
    "❌ Uses extra memory for the full reversed list\n",
    "\n",
    "### reversed(stack)\n",
    "\n",
    "🔄 Creates a generator/iterator (does not copy the list)\n",
    "\n",
    "✅ More memory-efficient\n",
    "\n",
    "✅ Slightly faster for large data, especially if you’re only iterating once\n",
    "\n",
    "🧠 Slightly less intuitive for beginners"
   ]
  }
 ],
 "metadata": {
  "kernelspec": {
   "display_name": "base",
   "language": "python",
   "name": "python3"
  },
  "language_info": {
   "codemirror_mode": {
    "name": "ipython",
    "version": 3
   },
   "file_extension": ".py",
   "mimetype": "text/x-python",
   "name": "python",
   "nbconvert_exporter": "python",
   "pygments_lexer": "ipython3",
   "version": "3.12.7"
  }
 },
 "nbformat": 4,
 "nbformat_minor": 5
}

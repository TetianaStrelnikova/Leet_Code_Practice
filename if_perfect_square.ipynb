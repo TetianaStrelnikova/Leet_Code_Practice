{
 "cells": [
  {
   "cell_type": "markdown",
   "id": "61ccbe3a",
   "metadata": {},
   "source": [
    "🔷 Challenge 1: Is it a Perfect Square?\n",
    "\n",
    " 📌 Problem Statement:\n",
    "Given a positive integer `a`, write a function that returns True if `a` is a perfect square,\n",
    "and False if it is not.\n",
    "\n",
    "🔒 Constraints:\n",
    "1 ≤ a ≤ 10^3\n",
    "\n",
    "🔍 Examples:\n",
    "Input: 16     ➝ Output: True   (since 4 * 4 = 16)\n",
    "Input: 14     ➝ Output: False  (no integer squared equals 14)"
   ]
  },
  {
   "cell_type": "code",
   "execution_count": null,
   "id": "f586a7d6",
   "metadata": {},
   "outputs": [],
   "source": [
    "#if the a is a perfect square than thare exist such n taht: n*n = a \n",
    "\n",
    "def isPerfectSquare(a):                     #O(1)\n",
    "  if a < 2:                                 #O(1)\n",
    "    return True                             #O(1)    \n",
    "\n",
    "  low = 0                                   #O(1)\n",
    "  high = a                                  #O(1)\n",
    "  while (low + 1) < high: \n",
    "    mid = ( low + high ) // 2               #O(log n)\n",
    "    if mid * mid == a :                     #O(1)  \n",
    "        return True                         #O(1)\n",
    "    elif mid*mid > a:                       #O(1)               \n",
    "        high = mid                          #O(1)\n",
    "    elif mid*mid < a:                       #O(1)  \n",
    "        low = mid                           #O(1)\n",
    "    if low * low == a or high * high == a:  #O(1)\n",
    "        return True                         #O(1)\n",
    "  return False                              #O(1)   \n",
    "\n",
    "# Time complexity: O(log n)\n",
    "# Space complexity: O(1)                                      "
   ]
  }
 ],
 "metadata": {
  "kernelspec": {
   "display_name": "base",
   "language": "python",
   "name": "python3"
  },
  "language_info": {
   "codemirror_mode": {
    "name": "ipython",
    "version": 3
   },
   "file_extension": ".py",
   "mimetype": "text/x-python",
   "name": "python",
   "nbconvert_exporter": "python",
   "pygments_lexer": "ipython3",
   "version": "3.12.7"
  }
 },
 "nbformat": 4,
 "nbformat_minor": 5
}

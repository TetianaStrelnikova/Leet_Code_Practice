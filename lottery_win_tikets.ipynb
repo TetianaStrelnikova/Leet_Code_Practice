{
 "cells": [
  {
   "cell_type": "markdown",
   "id": "d811d066",
   "metadata": {},
   "source": [
    "### Problem:\n",
    "You are working with a company that helps customers predict winning lottery numbers. The lottery ticket has six numbers selected from a pool of numbers, say from 1 to 44. After training, a customer is able to predict 15 possible numbers, out of which at least 4 are guaranteed to be on the winning ticket.\n",
    "\n",
    "Your task is to model this scenario and design an algorithm that minimizes the number of lottery tickets the customer needs to buy to ensure at least one ticket contains at least three correct numbers. \n",
    "\n",
    "### Problem Parameters:\n",
    "Total candidate numbers predicted: 15\n",
    "Numbers to choose per ticket: 6\n",
    "At least 4 correct numbers guaranteed in the predicted set\n",
    "You win if at least 3 numbers on the ticket match the winning numbers.\n",
    "\n",
    "### Goal:\n",
    "Develop a solution that minimizes the number of tickets needed to guarantee a win. Start by thinking about how you can generate the necessary subsets of tickets and how to cover all possible winning combinations."
   ]
  },
  {
   "cell_type": "markdown",
   "id": "0bee11aa",
   "metadata": {},
   "source": [
    "first we need to find al possible combinations of 6 numbers from 15 numbers"
   ]
  },
  {
   "cell_type": "code",
   "execution_count": 2,
   "id": "41f37dee",
   "metadata": {},
   "outputs": [],
   "source": [
    "#create a list with known 15 numbers\n",
    "\n",
    "numbers = [3, 7, 11, 14, 16, 18, 21, 23, 27, 31, 33, 37, 39, 42, 44]"
   ]
  },
  {
   "cell_type": "code",
   "execution_count": 7,
   "id": "08cc4042",
   "metadata": {},
   "outputs": [],
   "source": [
    "# import the combinatorics module & make a list \n",
    "# from all possible combinations of 6 numbers from these 15\n",
    "\n",
    "from itertools import combinations\n",
    "\n",
    "all_tickets = list(combinations(numbers, 6))\n",
    "\n",
    "#print(f\"Total possible tickets: {len(all_tickets)}\")"
   ]
  },
  {
   "cell_type": "code",
   "execution_count": null,
   "id": "478646a7",
   "metadata": {},
   "outputs": [],
   "source": [
    "# combinations of 3 from 15 - the target groups to cover\n",
    "uncovered_combos = set(combinations(numbers, 3))\n",
    "\n",
    "#print(f\"Total combinations of 3 from 15: {len(three_winning_combos)}\")"
   ]
  },
  {
   "cell_type": "code",
   "execution_count": 9,
   "id": "4c823497",
   "metadata": {},
   "outputs": [],
   "source": [
    "# create a dictionary to map each ticket to the 3-number combinations it covers \n",
    "#Keys: each ticket (tuple of 6 numbers from 15)\n",
    "#Values: set of all 3-number combinations that this ticket covers\n",
    "\n",
    "ticket_covers = {}\n",
    "for ticket in all_tickets:\n",
    "    ticket_covers[ticket] = set(combinations(ticket, 3))\n"
   ]
  },
  {
   "cell_type": "code",
   "execution_count": 10,
   "id": "3c4d21a9",
   "metadata": {},
   "outputs": [],
   "source": [
    "#now we will ned to find a combo of tickets that covers all 3-number combinations\n",
    "#Choose a minimal set of tickets whose 3-number combinations cover all 455 winning combos.\n",
    "\n",
    "uncovered_combos = set(combinations(numbers, 3))  # all 455 combinations\n",
    "selected_tickets = []\n",
    "\n",
    "while len(uncovered_combos) > 0:\n",
    "    best_ticket = None\n",
    "    max_covered = 0\n",
    "\n",
    "    for ticket, covered in ticket_covers.items():\n",
    "        # How many uncovered combos this ticket would help cover?\n",
    "        new_covered = len(covered & uncovered_combos)  # set intersection\n",
    "        if new_covered > max_covered:\n",
    "            best_ticket = ticket\n",
    "            max_covered = new_covered\n",
    "\n",
    "    # Add the best ticket to the result\n",
    "    selected_tickets.append(best_ticket)\n",
    "\n",
    "    # Remove its covered combos from uncovered ones\n",
    "    uncovered_combos -= ticket_covers[best_ticket]\n",
    "\n",
    "    # Optional: remove this ticket from future consideration\n",
    "    del ticket_covers[best_ticket]\n",
    "\n",
    "    "
   ]
  },
  {
   "cell_type": "code",
   "execution_count": 11,
   "id": "23837b4f",
   "metadata": {},
   "outputs": [
    {
     "name": "stdout",
     "output_type": "stream",
     "text": [
      "Selected tickets: 34\n"
     ]
    }
   ],
   "source": [
    "print(f\"Selected tickets: {len(selected_tickets)}\")"
   ]
  }
 ],
 "metadata": {
  "kernelspec": {
   "display_name": "base",
   "language": "python",
   "name": "python3"
  },
  "language_info": {
   "codemirror_mode": {
    "name": "ipython",
    "version": 3
   },
   "file_extension": ".py",
   "mimetype": "text/x-python",
   "name": "python",
   "nbconvert_exporter": "python",
   "pygments_lexer": "ipython3",
   "version": "3.12.7"
  }
 },
 "nbformat": 4,
 "nbformat_minor": 5
}

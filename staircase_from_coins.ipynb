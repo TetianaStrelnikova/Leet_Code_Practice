{
 "cells": [
  {
   "cell_type": "markdown",
   "id": "8ff44b3f",
   "metadata": {},
   "source": [
    "### Challenge 2\n",
    "\n",
    "Let’s use binary search with a monotonic function.\n",
    "\n",
    "#### Problem Statement\n",
    "\n",
    "Suppose that there are a total of `n` coins that we want to form into a **staircase shape**, where every `k`-th row contains exactly `k` coins.\n",
    "\n",
    "Given `n`, find the total number of **full staircase rows** that can be formed.\n",
    "\n",
    "#### Constraints:\n",
    "- 1 ≤ n ≤ 10³\n",
    "\n",
    "---\n",
    "\n",
    "#### Example 1:\n",
    "**Input:** `5`  \n",
    "**Output:** `2`  \n",
    "**Explanation:**  \n",
    "Because the 3rd row is incomplete, we return `2`.  \n",
    "The coins can form the following rows:\n"
   ]
  },
  {
   "cell_type": "code",
   "execution_count": 2,
   "id": "2aad970f",
   "metadata": {},
   "outputs": [
    {
     "name": "stdout",
     "output_type": "stream",
     "text": [
      "2\n",
      "3\n",
      "1\n",
      "0\n"
     ]
    }
   ],
   "source": [
    "def arrangeCoins(n):\n",
    "  # TODO: Write - Your - Code\n",
    "  if n < 1:\n",
    "    return 0\n",
    "  if n == 1:\n",
    "    return 1\n",
    "  low = 0\n",
    "  high = n\n",
    "  \n",
    "  while low + 1 < high:\n",
    "    k = (low + high) // 2  #k is the same as middle here\n",
    "    sum  = k * ( k + 1 ) // 2  # calculater the sum of coins in stairs (rows)\n",
    "    if n == sum :\n",
    "      return k\n",
    "    elif n < sum :\n",
    "      high = k\n",
    "    else:                 #n < (k*(k+1)//2)\n",
    "      low = k\n",
    "  return low\n",
    "\n",
    "print(arrangeCoins(5))\n",
    "print(arrangeCoins(8))\n",
    "print(arrangeCoins(1))\n",
    "print(arrangeCoins(0))\n",
    "\n",
    "\n"
   ]
  }
 ],
 "metadata": {
  "kernelspec": {
   "display_name": "base",
   "language": "python",
   "name": "python3"
  },
  "language_info": {
   "codemirror_mode": {
    "name": "ipython",
    "version": 3
   },
   "file_extension": ".py",
   "mimetype": "text/x-python",
   "name": "python",
   "nbconvert_exporter": "python",
   "pygments_lexer": "ipython3",
   "version": "3.12.7"
  }
 },
 "nbformat": 4,
 "nbformat_minor": 5
}

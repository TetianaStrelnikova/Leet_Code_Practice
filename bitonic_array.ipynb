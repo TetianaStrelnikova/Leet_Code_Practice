{
 "cells": [
  {
   "cell_type": "markdown",
   "id": "f2f856e7",
   "metadata": {},
   "source": [
    "### Task: Bitonic Array Search\n",
    "\n",
    "A **bitonic array** is an array of integers that first increases and then decreases. There is exactly one peak (maximum) element.\n",
    "\n",
    "#### Part 1: Find the Peak Element (Middle of Bitonic Array)\n",
    "Write a function that takes a bitonic array as input and returns the **index of the peak (maximum)** element.\n",
    "\n",
    "*Example:*  \n",
    "Input: `[1, 3, 8, 12, 4, 2]`  \n",
    "Output: `3` (since `12` is the maximum)\n",
    "\n",
    "---\n",
    "\n",
    "#### Part 2: Find a Target Value in Bitonic Array\n",
    "Write a function that takes a bitonic array and a target integer as input and returns the **index** of the target if it is present, otherwise `-1`.\n",
    "\n",
    "*Example:*  \n",
    "Input: array = `[1, 3, 8, 12, 4, 2]`, target = `4`  \n",
    "Output: `4`\n",
    "\n"
   ]
  },
  {
   "cell_type": "code",
   "execution_count": 10,
   "id": "aa980b25",
   "metadata": {},
   "outputs": [],
   "source": [
    "def find_bitonic_peak(arr):\n",
    "    low = 0\n",
    "    high = len(arr) - 1\n",
    "\n",
    "    while low + 1 < high:\n",
    "        mid = (low + high) // 2\n",
    "        if arr[mid] > arr[mid + 1] and arr[mid] > arr[mid - 1]:\n",
    "            return mid\n",
    "        elif arr[mid] < arr[mid + 1]:\n",
    "            low = mid \n",
    "        else:\n",
    "            high = mid\n",
    "    return low if arr[low] > arr[high] else high"
   ]
  },
  {
   "cell_type": "code",
   "execution_count": 11,
   "id": "465692f3",
   "metadata": {},
   "outputs": [
    {
     "name": "stdout",
     "output_type": "stream",
     "text": [
      "✅ Test 1 passed: peak at index 3\n",
      "✅ Test 2 passed: peak at index 1\n",
      "✅ Test 3 passed: peak at index 4\n",
      "✅ Test 4 passed: peak at index 3\n",
      "✅ Test 5 passed: peak at index 0\n",
      "✅ Test 6 passed: peak at index 3\n",
      "✅ Test 7 passed: peak at index 3\n"
     ]
    }
   ],
   "source": [
    "def test_find_bitonic_peak():\n",
    "    test_cases = [\n",
    "        ([1, 3, 8, 12, 4, 2], 3),\n",
    "        ([1, 6, 5, 4, 3], 1),\n",
    "        ([2, 4, 6, 9, 10, 8, 3, 1], 4),\n",
    "        ([0, 2, 5, 10, 7, 6], 3),\n",
    "        ([10, 9, 8, 7], 0),\n",
    "        ([3, 5, 7, 9], 3),\n",
    "        ([1, 2, 3, 4, 3, 2, 1], 3),\n",
    "    ]\n",
    "\n",
    "    for i, (arr, expected_index) in enumerate(test_cases):\n",
    "        result = find_bitonic_peak(arr)\n",
    "        if result == expected_index:\n",
    "            print(f\"✅ Test {i+1} passed: peak at index {result}\")\n",
    "        else:\n",
    "            print(f\"❌ Test {i+1} failed: got {result}, expected {expected_index}\")\n",
    "\n",
    "# Run the test function\n",
    "test_find_bitonic_peak()\n"
   ]
  },
  {
   "cell_type": "code",
   "execution_count": 12,
   "id": "b47a7c37",
   "metadata": {},
   "outputs": [],
   "source": [
    "def binary_ascending_search(arr, target,low, high):\n",
    "    while low + 1< high:\n",
    "        mid = (low + high) // 2\n",
    "        if arr[mid] == target:\n",
    "            return mid\n",
    "        elif arr[mid] < target:\n",
    "            low = mid\n",
    "        else:\n",
    "            high = mid\n",
    "    return low if arr[low] == target else high if arr[high] == target else -1"
   ]
  },
  {
   "cell_type": "code",
   "execution_count": 13,
   "id": "53259918",
   "metadata": {},
   "outputs": [
    {
     "name": "stdout",
     "output_type": "stream",
     "text": [
      "✅ Test 1 passed: target 5 found at index 2\n",
      "✅ Test 2 passed: target 10 found at index 4\n",
      "✅ Test 3 passed: target 0 found at index 0\n",
      "✅ Test 4 passed: target 2 found at index -1\n",
      "✅ Test 5 passed: target 4 found at index 1\n",
      "✅ Test 6 passed: target 2 found at index 0\n",
      "✅ Test 7 passed: target 100 found at index 0\n",
      "✅ Test 8 passed: target 200 found at index -1\n"
     ]
    }
   ],
   "source": [
    "def test_binary_ascending_search():\n",
    "    test_cases = [\n",
    "        # format: (arr, target, low, high, expected_result)\n",
    "        ([1, 3, 5, 7, 9], 5, 0, 4, 2),\n",
    "        ([1, 2, 4, 6, 10], 10, 0, 4, 4),\n",
    "        ([0, 2, 4, 6, 8], 0, 0, 4, 0),\n",
    "        ([1, 3, 5, 7, 9], 2, 0, 4, -1),   # not in array\n",
    "        ([2, 4], 4, 0, 1, 1),            # small array, high hit\n",
    "        ([2, 4], 2, 0, 1, 0),            # small array, low hit\n",
    "        ([100], 100, 0, 0, 0),           # single element, hit\n",
    "        ([100], 200, 0, 0, -1),          # single element, miss\n",
    "    ]\n",
    "\n",
    "    for i, (arr, target, low, high, expected) in enumerate(test_cases):\n",
    "        result = binary_ascending_search(arr, target, low, high)\n",
    "        if result == expected:\n",
    "            print(f\"✅ Test {i+1} passed: target {target} found at index {result}\")\n",
    "        else:\n",
    "            print(f\"❌ Test {i+1} failed: target {target}, expected {expected}, got {result}\")\n",
    "\n",
    "# Run the test\n",
    "test_binary_ascending_search()\n"
   ]
  },
  {
   "cell_type": "code",
   "execution_count": 14,
   "id": "ea111da1",
   "metadata": {},
   "outputs": [],
   "source": [
    "def binary_descending_search(arr, target,low, high):\n",
    "    while low + 1 < high:\n",
    "        mid = (low + high) // 2\n",
    "        if arr[mid] == target:\n",
    "            return mid\n",
    "        elif arr[mid] > target:\n",
    "            low = mid\n",
    "        else:\n",
    "            high = mid\n",
    "    if arr[high] == target: return high\n",
    "    if arr[low] == target: return low\n",
    "  \n",
    "    return -1\n",
    "    \n",
    "    "
   ]
  },
  {
   "cell_type": "code",
   "execution_count": 15,
   "id": "efe3fc4f",
   "metadata": {},
   "outputs": [
    {
     "name": "stdout",
     "output_type": "stream",
     "text": [
      "✅ Test 1 passed: target 6 found at index 2\n",
      "✅ Test 2 passed: target 7 found at index 3\n",
      "✅ Test 3 passed: target 15 found at index 1\n",
      "✅ Test 4 passed: target 1 found at index 4\n",
      "✅ Test 5 passed: target 9 found at index 0\n",
      "✅ Test 6 passed: target 2 found at index -1\n",
      "✅ Test 7 passed: target 100 found at index 0\n"
     ]
    }
   ],
   "source": [
    "def test_binary_descending_search():\n",
    "    test_cases = [\n",
    "        # format: (arr, target, low, high, expected_result)\n",
    "        ([10, 8, 6, 4, 2], 6, 0, 4, 2),\n",
    "        ([12, 10, 8, 7, 3], 7, 0, 4, 3),\n",
    "        ([20, 15, 10, 5], 15, 0, 3, 1),\n",
    "        ([5, 4, 3, 2, 1], 1, 0, 4, 4),\n",
    "        ([9, 7, 5, 3, 1], 9, 0, 4, 0),\n",
    "        ([9, 7, 5, 3, 1], 2, 0, 4, -1),  # target not in list\n",
    "        ([100], 100, 0, 0, 0),           # single-element array\n",
    "    ]\n",
    "\n",
    "    for i, (arr, target, low, high, expected) in enumerate(test_cases):\n",
    "        result = binary_descending_search(arr, target, low, high)\n",
    "        if result == expected:\n",
    "            print(f\"✅ Test {i+1} passed: target {target} found at index {result}\")\n",
    "        else:\n",
    "            print(f\"❌ Test {i+1} failed: target {target}, expected {expected}, got {result}\")\n",
    "\n",
    "# Run the test\n",
    "test_binary_descending_search()\n"
   ]
  },
  {
   "cell_type": "code",
   "execution_count": 22,
   "id": "3d72fdf1",
   "metadata": {},
   "outputs": [],
   "source": [
    "def find_target_in_bitonic_array(arr, target):\n",
    "    bitonic_peak = find_bitonic_peak(arr)\n",
    "    result = binary_ascending_search(arr, target, 0, bitonic_peak)\n",
    "    if result == -1:\n",
    "        result = binary_descending_search(arr, target, bitonic_peak, len(arr) - 1)\n",
    "    return result"
   ]
  },
  {
   "cell_type": "code",
   "execution_count": 23,
   "id": "5a372b7d",
   "metadata": {},
   "outputs": [
    {
     "name": "stdout",
     "output_type": "stream",
     "text": [
      "✅ Test 1 passed: target 4 found at index 4\n",
      "✅ Test 2 passed: target 12 found at index 3\n",
      "✅ Test 3 passed: target 3 found at index 1\n",
      "✅ Test 4 passed: target 2 found at index 5\n",
      "✅ Test 5 passed: target 1 found at index 0\n",
      "✅ Test 6 passed: target 100 found at index -1\n",
      "✅ Test 7 passed: target 4 found at index 3\n",
      "✅ Test 8 passed: target 10 found at index 0\n",
      "✅ Test 9 passed: target 5 found at index 4\n",
      "✅ Test 10 passed: target 7 found at index 6\n",
      "✅ Test 11 passed: target 1 found at index 0\n",
      "✅ Test 12 passed: target 2 found at index -1\n"
     ]
    }
   ],
   "source": [
    "def test_find_target_in_bitonic_array():\n",
    "    test_cases = [\n",
    "        # (arr, target, expected_index)\n",
    "        ([1, 3, 8, 12, 4, 2], 4, 4),\n",
    "        ([1, 3, 8, 12, 4, 2], 12, 3),\n",
    "        ([1, 3, 8, 12, 4, 2], 3, 1),\n",
    "        ([1, 3, 8, 12, 4, 2], 2, 5),\n",
    "        ([1, 3, 8, 12, 4, 2], 1, 0),\n",
    "        ([1, 3, 8, 12, 4, 2], 100, -1),  # not present\n",
    "        ([1, 2, 3, 4, 3, 2, 1], 4, 3),   # peak in middle\n",
    "        ([10, 9, 8, 7, 6], 10, 0),       # descending only\n",
    "        ([1, 2, 3, 4, 5], 5, 4),         # ascending only\n",
    "        ([1, 3, 8, 12, 14, 13, 7, 4], 7, 6),\n",
    "        ([1], 1, 0),                     # single-element\n",
    "        ([1], 2, -1),                    # single-element not found\n",
    "    ]\n",
    "\n",
    "    for i, (arr, target, expected) in enumerate(test_cases):\n",
    "        result = find_target_in_bitonic_array(arr, target)\n",
    "        if result == expected:\n",
    "            print(f\"✅ Test {i+1} passed: target {target} found at index {result}\")\n",
    "        else:\n",
    "            print(f\"❌ Test {i+1} failed: target {target}, expected {expected}, got {result}\")\n",
    "\n",
    "# Run the tests\n",
    "test_find_target_in_bitonic_array()\n"
   ]
  }
 ],
 "metadata": {
  "kernelspec": {
   "display_name": "base",
   "language": "python",
   "name": "python3"
  },
  "language_info": {
   "codemirror_mode": {
    "name": "ipython",
    "version": 3
   },
   "file_extension": ".py",
   "mimetype": "text/x-python",
   "name": "python",
   "nbconvert_exporter": "python",
   "pygments_lexer": "ipython3",
   "version": "3.12.7"
  }
 },
 "nbformat": 4,
 "nbformat_minor": 5
}

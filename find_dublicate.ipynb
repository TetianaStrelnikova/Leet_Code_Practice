{
 "cells": [
  {
   "cell_type": "markdown",
   "id": "0d06e759",
   "metadata": {},
   "source": [
    "## 🧠 Problem Statement\n",
    "\n",
    "We are given a **sorted array** of integers `nums` that contains **`n` integers**,  \n",
    "where each integer is in the range **[0, n−1] inclusive**.  \n",
    "There is **only one duplicate number** in `nums`.  \n",
    "\n",
    "🔍 **Your task**:  \n",
    "Find and return this **duplicate number**.\n",
    "\n",
    "---\n",
    "\n",
    "### 🔒 Constraints:\n",
    "\n",
    "- `2 ≤ nums.length ≤ 10³`\n",
    "- `1 ≤ nums[i] < nums.length`\n",
    "- All integers in `nums` appear **only once**, **except one** that appears **twice**\n",
    "\n",
    "---\n",
    "\n",
    "### 📘 Examples\n",
    "\n",
    "#### Example 1:\n",
    "**Input:** `[1, 2, 3, 4, 4, 5, 6, 7]`  \n",
    "**Output:** `4`\n",
    "\n",
    "#### Example 2:\n",
    "**Input:** `[1, 1, 2, 3, 4, 5]`  \n",
    "**Output:** `1`\n",
    "\n",
    "#### Example 3:\n",
    "**Input:** `[1, 2, 3, 4, 5, 5]`  \n",
    "**Output:** `5`\n",
    "\n",
    "#### Example 4:\n",
    "**Input:** `[1, 1]`  \n",
    "**Output:** `1`\n",
    "\n",
    "---\n",
    "\n",
    "💡 **Hint**: Think about how the value at each index should match in a perfect array without duplicates. Can you use binary search logic to detect the shift caused by the duplicate?\n"
   ]
  },
  {
   "cell_type": "code",
   "execution_count": 20,
   "id": "188d43ba",
   "metadata": {},
   "outputs": [
    {
     "name": "stdout",
     "output_type": "stream",
     "text": [
      "5\n",
      "4\n",
      "5\n",
      "1\n"
     ]
    }
   ],
   "source": [
    "def binary_dublicate_search(arr):\n",
    "    \"\"\"\n",
    "    This function performs a binary search to find the first occurrence of a duplicate in a sorted array.\n",
    "    \"\"\"\n",
    "    if not arr:\n",
    "        return None\n",
    "    \n",
    "    low = 0\n",
    "    high = len(arr) - 1 \n",
    "    \n",
    "    while low < high:\n",
    "        \n",
    "        mid = (low + high) // 2\n",
    "        \n",
    "        if arr[mid] == mid + 1 : \n",
    "                low = mid + 1 \n",
    "        else: \n",
    "                high = mid\n",
    "    return arr[mid]\n",
    "\n",
    "\n",
    "# Example usage:\n",
    "arr = [1, 2, 3, 4, 5, 5, 6, 7]\n",
    "\n",
    "print(binary_dublicate_search(arr))\n",
    "print(binary_dublicate_search([1,2,3,4,4,5,6,7]))\n",
    "print(binary_dublicate_search(arr + [8, 9, 10]))\n",
    "print(binary_dublicate_search([1,1,2,3,4,5]))\n",
    "   \n"
   ]
  }
 ],
 "metadata": {
  "kernelspec": {
   "display_name": "base",
   "language": "python",
   "name": "python3"
  },
  "language_info": {
   "codemirror_mode": {
    "name": "ipython",
    "version": 3
   },
   "file_extension": ".py",
   "mimetype": "text/x-python",
   "name": "python",
   "nbconvert_exporter": "python",
   "pygments_lexer": "ipython3",
   "version": "3.12.7"
  }
 },
 "nbformat": 4,
 "nbformat_minor": 5
}

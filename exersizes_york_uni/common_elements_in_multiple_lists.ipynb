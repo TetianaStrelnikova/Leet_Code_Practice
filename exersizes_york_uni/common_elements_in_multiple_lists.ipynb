{
 "cells": [
  {
   "cell_type": "markdown",
   "id": "220926cd",
   "metadata": {},
   "source": [
    "### Finding Common Elements in Multiple Lists\n",
    "\n",
    "This exercise focuses on finding the common elements that exist in all the lists within a given list of lists. You are encouraged to utilise Python's set operations for an efficient solution. Imagine you have a list of shopping lists from different customers at a grocery store. Each inner list represents the items on one customer's shopping list. You want to find the items that appear on every customer's list. For example:\n",
    "\n",
    "\n",
    "shopping_lists = [\n",
    "    [\"milk\", \"bread\", \"eggs\", \"apples\"],\n",
    "    [\"bread\", \"eggs\", \"bananas\", \"apples\"],\n",
    "    [\"milk\", \"bread\", \"apples\"]\n",
    "]\n",
    "\n",
    "In this example, the common elements are \"bread\" and \"apples\".\n",
    "\n",
    "Tasks:\n",
    "\n",
    "Implement the find_common_items(lists) function:\n",
    "- The function takes a list of lists (lists) as input.\n",
    "Hint: Create a set from the first list.\n",
    "- Return the resulting set of common elements.\n",
    "- Test your function: test your find_common_items function with the example shopping_lists above.Create a few more test cases with different input lists to ensure your function works correctly.\n",
    "- (Optional) Explore alternative approaches:\n",
    "- Can you think of other ways to find the common elements without using sets? \n",
    "- Compare the efficiency of your set-based solution with other approaches.\n"
   ]
  },
  {
   "cell_type": "code",
   "execution_count": null,
   "id": "b22d6662",
   "metadata": {},
   "outputs": [],
   "source": [
    "def find_common_items(lists):\n",
    "    common_elements =  set(lists[0])\n",
    "    for list in lists[1:]:\n",
    "       common_elements = common_elements.intersection(list)   \n",
    "    return common_elements"
   ]
  },
  {
   "cell_type": "code",
   "execution_count": null,
   "id": "ca3a048f",
   "metadata": {},
   "outputs": [],
   "source": [
    "from functools import reduce\n",
    "\n",
    "def find_common_items(lists):\n",
    "    return reduce(lambda a, b: set(a) & set(b), lists)\n",
    "\n",
    "#This means:\n",
    "# Start with the first list → turn it into a set\n",
    "# Intersect it with the second\n",
    "# Take that result, intersect it with the third\n",
    "# And so on..."
   ]
  },
  {
   "cell_type": "markdown",
   "id": "0994f161",
   "metadata": {},
   "source": [
    "Challenge: \n",
    "### Multiply all numbers in a list\n",
    "Write a function called product_of_list(numbers)\n",
    "that returns the product of all numbers in the list using reduce."
   ]
  },
  {
   "cell_type": "code",
   "execution_count": null,
   "id": "bc0f37a0",
   "metadata": {},
   "outputs": [],
   "source": [
    "def product_of_list(numbers):\n",
    "    return reduce(lambda a,b: a*b, numbers)"
   ]
  },
  {
   "cell_type": "markdown",
   "id": "7ddad4ca",
   "metadata": {},
   "source": [
    "### Sum of Squares\n",
    "Write a function that returns the sum of squares of all numbers in the list.\n",
    "\n",
    "`sum_of_squares([2, 3, 4])  # → 4 + 9 + 16 = 29`"
   ]
  },
  {
   "cell_type": "code",
   "execution_count": null,
   "id": "0bc2241f",
   "metadata": {},
   "outputs": [],
   "source": [
    "def sum_of_squares(list):\n",
    "    return reduce(lambda a, b: a + b, [x**2 for x in list]) \n",
    "\n",
    "#! list [x**2 for x in list] comprehension with generator      "
   ]
  },
  {
   "cell_type": "code",
   "execution_count": null,
   "id": "c6a6ee5d",
   "metadata": {},
   "outputs": [],
   "source": [
    "def sum_of_squares(list):\n",
    "    return sum([x**2 for x in list])\n",
    "\n",
    "#! Do not create a list, uses generator\n",
    "\n",
    "def sum_of_squares(list):\n",
    "    return sum([x**2 for x in list])"
   ]
  },
  {
   "cell_type": "code",
   "execution_count": null,
   "id": "d819739b",
   "metadata": {},
   "outputs": [],
   "source": []
  },
  {
   "cell_type": "markdown",
   "id": "f321dd5f",
   "metadata": {},
   "source": [
    "### Concatenate Words\n",
    "Join a list of words into one sentence string using reduce.\n",
    "\n",
    "`concat_words([\"I\", \"love\", \"Python\"])  # → \"I love Python\"`"
   ]
  },
  {
   "cell_type": "code",
   "execution_count": null,
   "id": "05c32dc6",
   "metadata": {},
   "outputs": [],
   "source": [
    "def concat_words(list):\n",
    "    return ' '.join(list)\n",
    "\n",
    "def concat_words(list):\n",
    "    reduce(lambda a,b: a + ' ' + b, list)\n",
    "\n",
    "#! Less efficient than ' '.join(list) — string concatenation with + in a loop creates lots of intermediate strings.\n",
    "#! Fails on empty lists\n",
    "\n",
    "# Without initializer (will raise an error)\n",
    "reduce(lambda a, b: a + ' ' + b, [])\n",
    "# → TypeError: reduce() of empty sequence with no initial value\n",
    "# initializer \n",
    "reduce(lambda a, b: a + ' ' + b, [], \"\") # \"\""
   ]
  },
  {
   "cell_type": "markdown",
   "id": "937e8cc0",
   "metadata": {},
   "source": [
    "### Find Longest Word\n",
    "Return the longest word from a list.\n",
    "\n",
    "`longest_word([\"hi\", \"banana\", \"yes\", \"tool\"])  # → \"banana\"`\n"
   ]
  },
  {
   "cell_type": "code",
   "execution_count": null,
   "id": "ba30e24f",
   "metadata": {},
   "outputs": [],
   "source": [
    "def longest_word(words):\n",
    "    #! condition culd be used inside reduce\n",
    "      return  reduce(lambda a, b: a if len(a) >= len(b) else b, words)"
   ]
  },
  {
   "cell_type": "markdown",
   "id": "3382229e",
   "metadata": {},
   "source": [
    "### Flatten Nested List\n",
    "Flatten a list of lists into one flat list.\n",
    "\n",
    "`flatten([[1, 2], [3, 4], [5]])  # → [1, 2, 3, 4, 5]`\n"
   ]
  },
  {
   "cell_type": "code",
   "execution_count": null,
   "id": "bb93629f",
   "metadata": {},
   "outputs": [],
   "source": [
    "\n",
    "\n",
    "def flatten(lists):\n",
    "    return reduce(lambda a,b: a + b, lists)\n",
    "    \n",
    "#! return reduce(lambda a,b: a.extend(b), lists)    \n",
    "#!  modifies the list in place and returns None.\n",
    "# So a.extend(b) updates a, but returns None to reduce().\n",
    "# Then reduce() tries to pass None as a in the next iteration — which breaks."
   ]
  },
  {
   "cell_type": "markdown",
   "id": "9b285706",
   "metadata": {},
   "source": [
    "### Alphabetical Order Reduction\n",
    "Return a single string with characters in alphabetical order from all words.\n",
    "\n",
    "`alphabetize([\"dog\", \"cat\"])  # → \"acdgot\"`\n",
    "\n",
    "##### Hint: combine all and sort at the end\n"
   ]
  },
  {
   "cell_type": "code",
   "execution_count": null,
   "id": "01cb114a",
   "metadata": {},
   "outputs": [],
   "source": [
    "def alphabetize(words):\n",
    "    return ''.join(sorted(''.join(words)))"
   ]
  }
 ],
 "metadata": {
  "language_info": {
   "name": "python"
  }
 },
 "nbformat": 4,
 "nbformat_minor": 5
}

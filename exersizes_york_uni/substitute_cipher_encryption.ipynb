{
 "cells": [
  {
   "cell_type": "markdown",
   "id": "2677a5c5",
   "metadata": {},
   "source": [
    "### Substitution Ciphers\n",
    "In this exercise, you will build a simple substitution cipher using Python dictionaries.\n",
    "\n",
    "1. Understanding Substitution Ciphers\n",
    "\n",
    "You want to send a encrypted message to your friend. How could you disguise the message so that nobody else can understand it? One way to do this is by replacing each letter in your message with another letter. This is called a substitution cipher. For example, let's say we replace 'h' with 's', 'e' with 'v', 'l' with 'o' and 'o' with l,  the word \"hello\" would become \"svool\".\n",
    "\n",
    "2. Creating a Simple Cipher\n",
    "\n",
    "Let's start with a basic cipher: Create a Python dictionary called simple_cipher with the following key-value pairs: 'a': 'z', 'b': 'y', 'c': 'x', 'd': 'w', 'e': 'v', ..., 'y': 'b', and 'z': 'a'.\n",
    "Try it out: Write a short message (e.g., \"secret message\"), and try to encrypt your message manually using the simple_cipher dictionary. You could use this example for testing your implementation.\n",
    "\n",
    "\n",
    "3. Python Implementation\n",
    "\n",
    "### Encryption Function: \n",
    "Write a Python function called encrypt_message(message, cipher_dict):\n",
    "\n",
    "- This function should take the message and the cipher_dict as input.\n",
    "- It should iterate through each character in the message.\n",
    "- If the character is a letter, it should look up the corresponding letter in the cipher_dict and replace it.\n",
    "- If the character is not a letter (e.g., spaces, punctuation), it should remain unchanged.\n",
    "- The function should return the encrypted message.\n",
    "\n",
    "### Decryption Function: \n",
    "\n",
    "Write another Python function called decrypt_message(message, cipher_dict):\n",
    "- This function should work in reverse.\n",
    "- It should take the encrypted message and the cipher_dict as input.\n",
    "- It should iterate through each character in the message and look up the corresponding original letter in the cipher_dict.\n",
    "- The function should return the decrypted message.\n",
    "\n",
    "\n",
    "Test your code: Write the necessary tests using the assert statement to ensure your functions are working porperly."
   ]
  },
  {
   "cell_type": "code",
   "execution_count": 1,
   "id": "cc1743e5",
   "metadata": {},
   "outputs": [],
   "source": [
    "simple_cipher = {\n",
    "    'a': 'z', 'b': 'y', 'c': 'x', 'd': 'w', 'e': 'v',\n",
    "    'f': 'u', 'g': 't', 'h': 's', 'i': 'r', 'j': 'q',\n",
    "    'k': 'p', 'l': 'o', 'm': 'n', 'n': 'm', 'o': 'l',\n",
    "    'p': 'k', 'q': 'j', 'r': 'i', 's': 'h', 't': 'g',\n",
    "    'u': 'f', 'v': 'e', 'w': 'd', 'x': 'c', 'y': 'b',\n",
    "    'z': 'a'\n",
    "}"
   ]
  },
  {
   "cell_type": "code",
   "execution_count": null,
   "id": "5dfbe7ca",
   "metadata": {},
   "outputs": [],
   "source": [
    "def encrypt_message(message, cipher_dict):\n",
    "    encrypted_message = ''\n",
    "    for i, char in enumerate(message):\n",
    "        if char in cipher_dict:\n",
    "            encrypted_message += cipher_dict[char]\n",
    "        else: \n",
    "            encrypted_message += char\n",
    "    return encrypted_message"
   ]
  },
  {
   "cell_type": "code",
   "execution_count": 2,
   "id": "2eb8919e",
   "metadata": {},
   "outputs": [],
   "source": [
    "#cipher_dict.get(c, c) means:\n",
    "#→ Give me cipher_dict[c] if it exists, else just use c\n",
    "\n",
    "#dict.get(key, default) \n",
    "\n",
    "def encrypt_message(message, cipher_dict):\n",
    "    return ''.join(cipher_dict.get(char,char) for char in message)"
   ]
  },
  {
   "cell_type": "code",
   "execution_count": 3,
   "id": "1a421f5a",
   "metadata": {},
   "outputs": [],
   "source": [
    "def decrypt_message(message, cipher_dict):\n",
    "    reversed_cipher = {value:key for key, value in cipher_dict.items()}\n",
    "    return ''.join(reversed_cipher.get(char, char) for char in message)"
   ]
  },
  {
   "cell_type": "code",
   "execution_count": 5,
   "id": "feb1ccf7",
   "metadata": {},
   "outputs": [
    {
     "name": "stdout",
     "output_type": "stream",
     "text": [
      "✅ All tests passed successfully!\n"
     ]
    }
   ],
   "source": [
    "# Basic test 1\n",
    "assert encrypt_message(\"abc\", simple_cipher) == \"zyx\"\n",
    "assert decrypt_message(\"zyx\", simple_cipher) == \"abc\"\n",
    "\n",
    "# Basic test 2 with spaces\n",
    "assert encrypt_message(\"hello world\", simple_cipher) == \"svool dliow\"\n",
    "assert decrypt_message(\"svool dliow\", simple_cipher) == \"hello world\"\n",
    "\n",
    "# Reversible test\n",
    "original = \"secret message\"\n",
    "encrypted = encrypt_message(original, simple_cipher)\n",
    "decrypted = decrypt_message(encrypted, simple_cipher)\n",
    "assert decrypted == original\n",
    "\n",
    "# Empty string\n",
    "assert encrypt_message(\"\", simple_cipher) == \"\"\n",
    "assert decrypt_message(\"\", simple_cipher) == \"\"\n",
    "\n",
    "# Characters not in cipher (digits, punctuation)\n",
    "assert encrypt_message(\"hi 123!\", simple_cipher) == \"sr 123!\"\n",
    "assert decrypt_message(\"sr 123!\", simple_cipher) == \"hi 123!\"\n",
    "\n",
    "print(\"✅ All tests passed successfully!\")"
   ]
  }
 ],
 "metadata": {
  "kernelspec": {
   "display_name": "base",
   "language": "python",
   "name": "python3"
  },
  "language_info": {
   "codemirror_mode": {
    "name": "ipython",
    "version": 3
   },
   "file_extension": ".py",
   "mimetype": "text/x-python",
   "name": "python",
   "nbconvert_exporter": "python",
   "pygments_lexer": "ipython3",
   "version": "3.12.7"
  }
 },
 "nbformat": 4,
 "nbformat_minor": 5
}

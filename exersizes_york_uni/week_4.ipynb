{
 "cells": [
  {
   "cell_type": "markdown",
   "id": "88415d05",
   "metadata": {},
   "source": [
    "### 📄 Download the task document\n",
    "\n",
    "[📥 Click here to download Week 4 Vector Exercises](Week4-Python-exercises-class-vector.docx)\n"
   ]
  }
 ],
 "metadata": {
  "language_info": {
   "name": "python"
  }
 },
 "nbformat": 4,
 "nbformat_minor": 5
}

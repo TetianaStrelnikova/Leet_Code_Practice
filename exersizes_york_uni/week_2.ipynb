{
 "cells": [
  {
   "cell_type": "markdown",
   "id": "d0a63353",
   "metadata": {},
   "source": [
    "# Exercise 1\n",
    "A fruit company sells bananas for £3.00 a kilogram plus £4.99 per order for postage and\n",
    "packaging. If an order is over £50.00, the P&P is reduced by £1.50. \n",
    "Write a script that requests the user to enter the number of kilo of bananas \n",
    "and print the cost of the order in pence.\n"
   ]
  },
  {
   "cell_type": "code",
   "execution_count": 7,
   "id": "f7b91b18",
   "metadata": {},
   "outputs": [
    {
     "name": "stdout",
     "output_type": "stream",
     "text": [
      "The cost of the order is £ 38.89 or 3889 pence\n"
     ]
    }
   ],
   "source": [
    "# Your code here\n",
    "price = 3.00\n",
    "postage = 4.99\n",
    "amount = float(input('enter the number of kilo of bananas'))\n",
    "#print(amount)\n",
    "total = amount * price + postage\n",
    "if total > 50.00:\n",
    "    total -= 1.50\n",
    "    \n",
    "print('The cost of the order is £', round(total, 2), 'or', round(total * 100), 'pence')"
   ]
  },
  {
   "cell_type": "markdown",
   "id": "bf249f64",
   "metadata": {},
   "source": [
    "# Exercise 2\n",
    "Write a script that takes the age (int) and rate (the heart rate as an int) from the user \n",
    "and prints a description of a person's training zone based on his or her age and training heart rate, rate.\n",
    "The zone is determined by comparing rate with the person's maximum heart rate m:\n",
    "\n",
    "Interval range       | Training Zone\n",
    "---------------------|---------------------\n",
    "rate ≥ 0.9 m         | Interval training\n",
    "0.7 m ≤ rate < 0.9 m | Threshold training\n",
    "0.5 m ≤ rate < 0.7 m | Aerobic training\n",
    "rate < 0.5 m         | Couch potato#\n",
    "\n",
    "The maximum heart rate m in beats per minute is given by the formula:\n",
    "m = 208 ― 0.7 × age\n"
   ]
  },
  {
   "cell_type": "code",
   "execution_count": 8,
   "id": "afc59fa2",
   "metadata": {},
   "outputs": [
    {
     "name": "stdout",
     "output_type": "stream",
     "text": [
      "Interval training\n"
     ]
    }
   ],
   "source": [
    "# Your code here\n",
    "age = int(input('Enter your age: '))\n",
    "rate = int(input('Enter your heart rate: '))\n",
    "max = 208 - 0.7 * age\n",
    "if rate >= 0.9 * max:\n",
    "    print('Interval training')\n",
    "elif 0.7 * max <= rate < 0.9 * max:\n",
    "    print('Threshold training')\n",
    "elif 0.5 * max <= rate < 0.7 * max:\n",
    "    print('Aerobic training')\n",
    "else:\n",
    "    print('Couch potato')"
   ]
  },
  {
   "cell_type": "markdown",
   "id": "f7fc42e2",
   "metadata": {},
   "source": [
    "# Exercise 3\n",
    "Write a program that asks the user to guess a number between 1 and 10. \n",
    "The program should keep asking until the user guesses the correct number. \n",
    "After each attempt, the program should display a message indicating \n",
    "if the guess is too low or too high.\n",
    "\n",
    "To generate a random number between two whole numbers you need to use:\n",
    "import random\n",
    "number_to_guess = random.randint(1, 10)\n"
   ]
  },
  {
   "cell_type": "code",
   "execution_count": 10,
   "id": "09c80d29",
   "metadata": {},
   "outputs": [
    {
     "name": "stdout",
     "output_type": "stream",
     "text": [
      "Too low! Try again.\n",
      "Too low! Try again.\n",
      "Too low! Try again.\n",
      "Congratulations! You guessed the number.\n"
     ]
    }
   ],
   "source": [
    "import random\n",
    "number_to_guess = random.randint(1, 10)\n",
    "guess = int(input('Guess a number between 1 and 10: '))\n",
    "while True:\n",
    "    if guess == number_to_guess:\n",
    "        print('Congratulations! You guessed the number.')\n",
    "        break\n",
    "    elif guess < number_to_guess:\n",
    "        print('Too low! Try again.')\n",
    "        guess = int(input('Guess a number between 1 and 10: '))\n",
    "    else:\n",
    "        print('Too high! Try again.')\n",
    "        guess = int(input('Guess a number between 1 and 10: '))\n",
    "\n",
    "\n"
   ]
  },
  {
   "cell_type": "markdown",
   "id": "a444b665",
   "metadata": {},
   "source": [
    "# Exercise 4\n",
    "Create a program that asks the user to enter a password. \n",
    "The program should keep asking until the user enters a password that meets the following criteria:\n",
    "1. at least 8 characters long,\n",
    "2. contains both uppercase and lowercase letters,\n",
    "3. and includes at least one number\n"
   ]
  },
  {
   "cell_type": "code",
   "execution_count": 1,
   "id": "8263214d",
   "metadata": {},
   "outputs": [
    {
     "name": "stdout",
     "output_type": "stream",
     "text": [
      "Password is invalid. Please try again.\n",
      "Password is valid.\n"
     ]
    }
   ],
   "source": [
    "import re\n",
    "password = input('Enter a password: ')\n",
    "def is_valid_password(password):\n",
    "    # At least 8 characters, one uppercase, one lowercase, one digit\n",
    "    pattern = r'^(?=.*[a-z])(?=.*[A-Z])(?=.*\\d).{8,}$'\n",
    "    return bool(re.match(pattern, password))\n",
    "\n",
    "while True:\n",
    "    if is_valid_password(password):\n",
    "        print('Password is valid.')\n",
    "        break\n",
    "    else:\n",
    "        print('Password is invalid. Please try again.')\n",
    "        password = input('Enter a password: ')"
   ]
  },
  {
   "cell_type": "markdown",
   "id": "0f4ac2e0",
   "metadata": {},
   "source": [
    "# Exercise 5.1\n",
    "Write a script that takes a sentence from the user without any punctuation \n",
    "and prints the sentence without any white spaces.\n",
    "For example:\n",
    "\n",
    "\n",
    "enter a sentence: this is a SHORT sentence\n",
    "\n",
    "thisisaSHORTsentence\n"
   ]
  },
  {
   "cell_type": "code",
   "execution_count": 2,
   "id": "eb6ac427",
   "metadata": {},
   "outputs": [
    {
     "name": "stdout",
     "output_type": "stream",
     "text": [
      "helloIamVRYY\n"
     ]
    }
   ],
   "source": [
    "sentance = input('Enter a sentence: ')\n",
    "print(''.join(sentance.split()))"
   ]
  },
  {
   "cell_type": "markdown",
   "id": "64ad8a7d",
   "metadata": {},
   "source": [
    "# Exercise 5.2\n",
    "Same as above except that each word in the output should start with an uppercase letter\n",
    "and all other letters should be lowercase (CamelCase).\n",
    "For example:\n",
    "\n",
    "enter a sentence: this is a SHORT sentence\n",
    "\n",
    "ThisIsAShortSentence\n"
   ]
  },
  {
   "cell_type": "markdown",
   "id": "cd609d53",
   "metadata": {},
   "source": [
    "# Exercise 5.3\n",
    "Write a script that takes a sentence from a user written in CamelCase (without any blank spaces),\n",
    "creates the list of words from that sentence, and then prints that list.\n",
    "For example:\n",
    "\n",
    "enter a sentence in CamelCase: ThisIsAShortSentence\n",
    "\n",
    "['This','Is','A','Short','Sentence']\n"
   ]
  },
  {
   "cell_type": "code",
   "execution_count": 3,
   "id": "dfd0ffe5",
   "metadata": {},
   "outputs": [
    {
     "name": "stdout",
     "output_type": "stream",
     "text": [
      "['I', 'Am', 'Very', 'Good', 'Person', 'Ha', 'Ha', 'Ha']\n"
     ]
    }
   ],
   "source": [
    "sentance = input('Enter a sentence in CamelCase NO SPACES: ')\n",
    "word_list = re.findall(r'[A-Z][a-z]*', sentance)\n",
    "print(word_list)"
   ]
  }
 ],
 "metadata": {
  "kernelspec": {
   "display_name": "base",
   "language": "python",
   "name": "python3"
  },
  "language_info": {
   "codemirror_mode": {
    "name": "ipython",
    "version": 3
   },
   "file_extension": ".py",
   "mimetype": "text/x-python",
   "name": "python",
   "nbconvert_exporter": "python",
   "pygments_lexer": "ipython3",
   "version": "3.12.7"
  }
 },
 "nbformat": 4,
 "nbformat_minor": 5
}

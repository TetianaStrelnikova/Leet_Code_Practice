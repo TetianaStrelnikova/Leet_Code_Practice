{
 "cells": [
  {
   "cell_type": "markdown",
   "id": "9504ebdb",
   "metadata": {},
   "source": [
    "### Problem Introduction \n",
    "\n",
    "It is often asserted that social network analysis (SNA) can help to identify key players in a network who should be targeted to disrupt organisational terrorist activities. It is thought that measures of centrality might be useful as an investigative tool. The aim of this question is to compute such measures. \n",
    "\n",
    "We have implemented and provided the class User which represents a user in each network. You must not modify this class as it is complete, however you are advised to consult the class documentation before attempting the question.\n",
    "\n",
    "To achieve our aim, we need to implement the class SocialNetwork representing connection between users. Create a module called socialnetwork where you will implement the class SocialNetwork.\n",
    "\n",
    "An instance of the class SocialNetwork has the following protected attributes:\n",
    "    • _name a string containing the name of the Network,\n",
    "    • _users, a dictionary containing all users from that network mapped by their id.\n",
    "\n",
    "Note that the class SocialNetwork forms an implicit graph via users' relationships.\n",
    "\n",
    "### Exercise 1:\n",
    "Implement the method __init__(name) which takes the name of the Network as a string parameter and initialises the attribute users to an empty dictionary."
   ]
  },
  {
   "cell_type": "code",
   "execution_count": null,
   "id": "f464890d",
   "metadata": {},
   "outputs": [],
   "source": [
    "from user import User\n",
    "from collections import deque\n",
    "class SocialNetwork:\n",
    "    def __init__(self, name):\n",
    "    \n",
    "        self._name = name\n",
    "        self._users = {}\n",
    "        \n",
    "    def create_user(self,id, name):\n",
    "        user = User(id,name)\n",
    "        if id in self._users:\n",
    "            raise ValueError('User with this id already exists')\n",
    "        self._users[id] = user\n",
    "        return user\n",
    "    \n",
    "    def get_user(self,id):\n",
    "        if id not in self._users:\n",
    "            raise ValueError('The user with such id do not exist')\n",
    "        return self._users[id]\n",
    "    \n",
    "    def add_relationship(self, user_one_ID, user_two_ID):\n",
    "        if not all(uid in self._users for uid in [user_one_ID, user_two_ID]):\n",
    "            raise ValueError(\"One or both users do not exist.\")\n",
    "        return self._users[user_one_ID].add_connection(user_two_ID) and self._users[user_two_ID].add_connection(user_one_ID)\n",
    "            \n",
    "         \n",
    "        \n",
    "    def connexion_degree(self, source_id, target_id):\n",
    "        if source_id not in self._users or target_id not in self._users:\n",
    "            return -1\n",
    "        q = deque()\n",
    "        q.append((source_id,0))\n",
    "        v = set()\n",
    "        v.add(source_id)\n",
    "        while q:\n",
    "            processed, degree = q.popleft()\n",
    "            if degree >= 3:\n",
    "                continue\n",
    "\n",
    "            if target_id in self._users[processed]._connections:\n",
    "                return degree + 1\n",
    "            for neighbor in self._users[processed]._connections:\n",
    "                if neighbor not in v:\n",
    "                    q.append((neighbor, degree + 1)) \n",
    "                    v.add(neighbor)\n",
    "        return -1                 \n",
    "    \n",
    "    def get_close_network(self, user_id):\n",
    "        \n",
    "        if user_id not in self._users:\n",
    "            return network\n",
    "        q = deque()\n",
    "        q.append((user_id,0))\n",
    "        v = set()\n",
    "        v.add(user_id)\n",
    "        network = set()\n",
    "        \n",
    "        while q:\n",
    "            processed, degree = q.popleft()\n",
    "            if degree >= 3:\n",
    "                continue\n",
    "            for neighbor in self._users[processed]._connections:\n",
    "                if neighbor not in v:\n",
    "                    q.append((neighbor, degree + 1)) \n",
    "                    v.add(neighbor)\n",
    "                    network.add(neighbor)\n",
    "                    \n",
    "        return network\n",
    "    \n",
    "    \n",
    "    def closeness(self, user_id):\n",
    "        if user_id not in self._users:\n",
    "            raise ValueError('User do not exist')\n",
    "        q = deque()\n",
    "        q.append((user_id,0))\n",
    "        v = set()\n",
    "        v.add(user_id)\n",
    "        s = 0 #sum the shortest distance between vertices\n",
    "        while q:\n",
    "            processed, d = q.popleft() # d the shortest distance between vertices\n",
    "            s += d\n",
    "            for neighbor in self._users[processed]._connections:\n",
    "                if neighbor not in v:\n",
    "                    q.append((neighbor, d + 1)) \n",
    "                    v.add(neighbor)\n",
    "                    \n",
    "        return (len(self._users) - 1) / s            "
   ]
  },
  {
   "cell_type": "markdown",
   "id": "363286a0",
   "metadata": {},
   "source": [
    "### Exercise 2:\n",
    "Implement the method create_user(id, name) which creates and returns a new User instance and adds it to the list of users in the social network. The first parameter is the user's id and the second the user's name. The method must raise a ValueError if a user with the same id already exists in this network."
   ]
  },
  {
   "cell_type": "markdown",
   "id": "2f2c2277",
   "metadata": {},
   "source": [
    "### Exercise 3:\n",
    "Implement the method get_user(id) which takes a user's id as parameter and returns the User instance with this id. The method should raise a ValueError if no such user exists."
   ]
  },
  {
   "cell_type": "markdown",
   "id": "9b587298",
   "metadata": {},
   "source": [
    "### Exercise 4:\n",
    "Implement the method add_relationship(user_one_ID, user_two_ID) which adds the user with user_one_ID to user_two_ID user's connection and vice versa. The method should return True if the connection was successful, False otherwise. The method must raise ValueError if one or both users do not exist. Note, this is the method that creates the edges between the vertices (the users) of the graph."
   ]
  },
  {
   "cell_type": "markdown",
   "id": "29871518",
   "metadata": {},
   "source": [
    "### Exercise 5:\n",
    "\n",
    "If you have been using LinkedIn you may have seen that whenever you open your connections, you find 1st, 2nd or 3rd written. It means the following:\n",
    "- 1st-degree – People you’re directly connected to because you have accepted their invitation to connect, or they have accepted your invitation. \n",
    "- 2nd-degree – People who are connected to your 1st-degree connections but are not 1sr degree connections. \n",
    "- 3rd-degree – People who are connected to your 2nd-degree connections, but are not 1st or 2nd degree connection\n",
    "- Out of Network – LinkedIn members who fall outside of the categories listed above. \n",
    "\n",
    "Implement the method connexion_degree(source_id, target_id) which takes a source user id, and a target user id, and returns in which of the four categories described above the target user is. The following encoding is used for the return value:\n",
    "- -1 means “out of network”,\n",
    "- 1 means “1st-degree”,\n",
    "- 2 means “2nd-degree”,\n",
    "- 3 means “3rd-degree”.\n",
    "\n",
    "The method MUST NOT raise an error if one of the ids does not exist, it should return -1 instead."
   ]
  },
  {
   "cell_type": "markdown",
   "id": "1428f00d",
   "metadata": {},
   "source": [
    "### Exercise 6:\n",
    "Following on exercise 5, implement a method get_close_network(user_id) that returns the set of users’ ids that have a connexion degree of 1, 2, or 3. The method returns an empty set if there is no users with an id equal to user_id."
   ]
  },
  {
   "cell_type": "markdown",
   "id": "1d9cd988",
   "metadata": {},
   "source": [
    "\n",
    "### Exercise 7:\n",
    "\n",
    "There are several centrality measures. The normalised closeness centrality (or closeness) of a node is the average length of the shortest path between the node and all other nodes in the graph. Thus, the more central a node is, the closer it is to all other nodes. Closeness was defined by Bavelas in 1950, and its normalised form is given by Equation 1.\n",
    "![alt text](image-4.png)\n",
    "\n",
    "where \n",
    "- C(u) is the closeness of vertex \n",
    "- d(u,v) is the shortest distance between vertices \n",
    "- N is the number of vertices in the graph. It is assumed that the graph is strongly connected, meaning that every vertex is reachable from every other vertex.\n",
    "\n",
    "![alt text](image-5.png)\n",
    "\n",
    "Implement the method closeness(user_id) which computes and returns the closeness measure of the user with ID user_id. The method should raise a ValueError if such a user does not exist."
   ]
  }
 ],
 "metadata": {
  "language_info": {
   "name": "python"
  }
 },
 "nbformat": 4,
 "nbformat_minor": 5
}

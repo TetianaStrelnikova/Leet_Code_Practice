{
 "cells": [
  {
   "cell_type": "markdown",
   "id": "07887248",
   "metadata": {},
   "source": [
    "Implement your own array based class Stack. "
   ]
  },
  {
   "cell_type": "code",
   "execution_count": null,
   "id": "a78dcdb3",
   "metadata": {},
   "outputs": [],
   "source": [
    "class Array_stack:\n",
    "    def __init__(self):\n",
    "        self._stack = []\n",
    "    \n",
    "    def is_empty(self):\n",
    "        return not self._stack\n",
    "        \n",
    "    def push(self, item):\n",
    "        \"\"\"Push an item onto the stack.\"\"\"\n",
    "        self._stack.append(item)\n",
    "        \n",
    "    def pop(self):\n",
    "        \"\"\"Pop an item off the stack.\"\"\"\n",
    "        if self.is_empty():\n",
    "            raise IndexError(\"pop from empty stack\")\n",
    "        return self._stack.pop()\n",
    "    \n",
    "    def peek(self):\n",
    "        \"\"\"Return the top item of the stack without removing it.\"\"\"\n",
    "        if self.is_empty():\n",
    "            raise IndexError(\"peek from empty stack\")   \n",
    "        return self._stack[-1]\n",
    "    \n",
    "    def size(self):\n",
    "        \"\"\"Return the number of items in the stack.\"\"\"\n",
    "        return len(self._stack)\n",
    "    \n",
    "    def __str__(self):\n",
    "        \"\"\"Return a string representation of the stack.\"\"\"\n",
    "        return f\"Stack: {self._stack}\"\n",
    "    \n",
    "  \n",
    "    "
   ]
  },
  {
   "cell_type": "code",
   "execution_count": 21,
   "id": "d4a17538",
   "metadata": {},
   "outputs": [],
   "source": [
    "# Create a new stack\n",
    "s = Array_stack()\n",
    "\n",
    "# Test: Stack should be empty initially\n",
    "assert s.is_empty() == True\n",
    "assert s.size() == 0\n",
    "assert str(s) == \"Stack: []\"\n",
    "\n",
    "# Test: Push an item\n",
    "s.push(10)\n",
    "assert s.is_empty() == False\n",
    "assert s.size() == 1\n",
    "assert s.peek() == 10\n",
    "assert str(s) == \"Stack: [10]\"\n",
    "\n",
    "# Test: Push another item\n",
    "s.push(20)\n",
    "assert s.size() == 2\n",
    "assert s.peek() == 20\n",
    "assert str(s) == \"Stack: [10, 20]\"\n",
    "\n",
    "# Test: Pop the top item\n",
    "top = s.pop()\n",
    "assert top == 20\n",
    "assert s.size() == 1\n",
    "assert s.peek() == 10\n",
    "assert str(s) == \"Stack: [10]\"\n",
    "\n",
    "# Test: Pop the last item\n",
    "top = s.pop()\n",
    "assert top == 10\n",
    "assert s.is_empty() == True\n",
    "assert s.size() == 0\n",
    "\n",
    "# Test: Popping from an empty stack should raise an error\n",
    "try:\n",
    "    s.pop()\n",
    "    assert False, \"Expected IndexError for pop from empty stack\"\n",
    "except IndexError as e:\n",
    "    assert str(e) == \"pop from empty stack\"\n",
    "\n",
    "# Test: Peeking from an empty stack should raise an error\n",
    "try:\n",
    "    s.peek()\n",
    "    assert False, \"Expected IndexError for peek from empty stack\"\n",
    "except IndexError as e:\n",
    "    assert str(e) == \"peek from empty stack\"\n"
   ]
  },
  {
   "cell_type": "markdown",
   "id": "b7213dbb",
   "metadata": {},
   "source": [
    "Copy and paste the is_matched code and test it with some examples of valid and invalid expression using brackets."
   ]
  },
  {
   "cell_type": "code",
   "execution_count": 26,
   "id": "0933411a",
   "metadata": {},
   "outputs": [],
   "source": [
    "def is_matched(expr):\n",
    "  '''Return True if all delimiters are correctly matched; False otherwise'''\n",
    "  s = Array_stack()\n",
    "  #print(s.__str__()) # print initial stack state\n",
    "  left = '({[' # opening delimiters\n",
    "  right = ')}]' # closing delimiters\n",
    "  for c in expr:\n",
    "    if c in left:\n",
    "      s.push(c) # push left delimiters to stack\n",
    "      #print(s.__str__()) # print initial stack state\n",
    "    elif c in right:\n",
    "      if s.is_empty():\n",
    "        return False # no matching opening delimiter\n",
    "      if right.index(c) != left.index(s.pop()):\n",
    "        return False # mismatched delimiter\n",
    "  return s.is_empty() # were all symbols matched? True/False"
   ]
  },
  {
   "cell_type": "code",
   "execution_count": 27,
   "id": "e4ecbddf",
   "metadata": {},
   "outputs": [
    {
     "name": "stdout",
     "output_type": "stream",
     "text": [
      "True\n",
      "False\n"
     ]
    }
   ],
   "source": [
    "print(is_matched('({{[()()]}})'))  # True\n",
    "print(is_matched('({{[()()]}}'))    # False"
   ]
  }
 ],
 "metadata": {
  "kernelspec": {
   "display_name": "base",
   "language": "python",
   "name": "python3"
  },
  "language_info": {
   "codemirror_mode": {
    "name": "ipython",
    "version": 3
   },
   "file_extension": ".py",
   "mimetype": "text/x-python",
   "name": "python",
   "nbconvert_exporter": "python",
   "pygments_lexer": "ipython3",
   "version": "3.12.7"
  }
 },
 "nbformat": 4,
 "nbformat_minor": 5
}

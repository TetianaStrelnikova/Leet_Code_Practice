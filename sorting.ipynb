{
 "cells": [
  {
   "cell_type": "markdown",
   "id": "f50ae881",
   "metadata": {},
   "source": [
    "### Challenge: Find minimum in Subarray\n",
    "Finish writing the function indexOfMinimum, which takes an array and a number startIndex, and returns the index of the smallest value that occurs with index startIndex or greater. If this smallest value occurs more than once in this range, then return the index of the leftmost occurrence within this range."
   ]
  },
  {
   "cell_type": "code",
   "execution_count": 2,
   "id": "88f45497",
   "metadata": {},
   "outputs": [],
   "source": [
    "def indexOfMinimum(array, startIndex):\n",
    "    \"\"\"\n",
    "    Finds the index of the minimum value in a subarray starting at a given index.\n",
    "\n",
    "    This function searches the subarray of `array` starting from `startIndex` to the end,\n",
    "    and returns the index of the smallest value found.\n",
    "\n",
    "    Args:\n",
    "        array (list): A list of comparable elements (e.g., numbers).\n",
    "        startIndex (int): The starting index for the search.\n",
    "\n",
    "    Returns:\n",
    "        int: The index of the smallest element in the subarray starting at `startIndex`.\n",
    "\n",
    "    Raises:\n",
    "        IndexError: If `startIndex` is out of bounds for the array.\n",
    "    \"\"\"\n",
    " \n",
    "    minValue = array[startIndex]\n",
    "    minIndex = startIndex\n",
    "    \n",
    "    for i in range(startIndex, len(array)):\n",
    "        if array[i] < minValue:\n",
    "            minIndex = i \n",
    "            minValue = array[i]  \n",
    "    return minIndex"
   ]
  },
  {
   "cell_type": "markdown",
   "id": "e5ce96e9",
   "metadata": {},
   "source": [
    "### Challenge: Implement Selection Sort\n",
    "Selection sort loops over positions in the array. For each position, it finds the index of the minimum value in the subarray starting at that position. Then it swaps the values at the position and at the minimum index. Write selection sort, making use of the swap and indexOfMinimum functions. "
   ]
  },
  {
   "cell_type": "code",
   "execution_count": 3,
   "id": "582c9d5f",
   "metadata": {},
   "outputs": [],
   "source": [
    "def swap(array, firstIndex, secondIndex):\n",
    "  temp = array[firstIndex]\n",
    "  array[firstIndex] = array[secondIndex]\n",
    "  array[secondIndex] = temp\n",
    "\n",
    "  \n",
    "def indexOfMinimum(array, startIndex):\n",
    "  minValue = array[startIndex]\n",
    "  minIndex = startIndex\n",
    "\n",
    "  for i in range(minIndex + 1,len(array)):\n",
    "    if array[i] < minValue:\n",
    "      minIndex = i\n",
    "      minValue = array[i]\n",
    "  return minIndex\n",
    "\n",
    "\n",
    "def selectionSort(array):\n",
    "  \"\"\"\n",
    "    Sorts an array in ascending order using the selection sort algorithm.\n",
    "\n",
    "    Args:\n",
    "        array (list): A list of comparable elements.\n",
    "\n",
    "    Returns:\n",
    "        list: A new list sorted in ascending order.\n",
    "    \"\"\"\n",
    "  \n",
    "  for i in range(len(array)):\n",
    "    minIndex = indexOfMinimum(array, startIndex = i)\n",
    "    array[i], array[minIndex] = array[minIndex], array[i]\n",
    "  \n",
    "  \n",
    "  \n",
    "  return array\n",
    "   "
   ]
  },
  {
   "cell_type": "code",
   "execution_count": 5,
   "id": "647c7f33",
   "metadata": {},
   "outputs": [],
   "source": [
    "assert selectionSort([3, 2, 1]) == [1, 2, 3]\n",
    "assert selectionSort([5, 4, 3, 2, 1]) == [1, 2, 3, 4, 5]\n",
    "assert selectionSort([1, 2, 3]) == [1, 2, 3]\n",
    "assert selectionSort([1, 3, 2]) == [1, 2, 3]\n",
    "assert selectionSort([1, 2, 3, 4, 5]) == [1, 2, 3, 4, 5]\n",
    "assert selectionSort([5, 3, 4, 1, 2]) == [1, 2, 3, 4, 5]\n",
    "assert selectionSort([1, 2, 3, 5, 4]) == [1, 2, 3, 4, 5]\n",
    "assert selectionSort([3, 1, 2]) == [1, 2, 3]\n",
    "assert selectionSort([2, 1]) == [1, 2]      "
   ]
  }
 ],
 "metadata": {
  "kernelspec": {
   "display_name": "base",
   "language": "python",
   "name": "python3"
  },
  "language_info": {
   "codemirror_mode": {
    "name": "ipython",
    "version": 3
   },
   "file_extension": ".py",
   "mimetype": "text/x-python",
   "name": "python",
   "nbconvert_exporter": "python",
   "pygments_lexer": "ipython3",
   "version": "3.12.7"
  }
 },
 "nbformat": 4,
 "nbformat_minor": 5
}
